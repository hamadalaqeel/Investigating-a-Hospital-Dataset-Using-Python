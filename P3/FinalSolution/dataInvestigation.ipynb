{
 "cells": [
  {
   "cell_type": "markdown",
   "metadata": {},
   "source": [
    "\n",
    "\n",
    "# Project: Investigate a Dataset (Replace this with something more specific!)\n",
    "\n",
    "## Table of Contents\n",
    "<ul>\n",
    "<li><a href=\"#intro\">Introduction</a></li>\n",
    "<li><a href=\"#wrangling\">Data Wrangling</a></li>\n",
    "<li><a href=\"#eda\">Exploratory Data Analysis</a></li>\n",
    "<li><a href=\"#conclusions\">Conclusions</a></li>\n",
    "</ul>"
   ]
  },
  {
   "cell_type": "markdown",
   "metadata": {},
   "source": [
    "<a id='intro'></a>\n",
    "## Introduction\n",
    "\n"
   ]
  },
  {
   "cell_type": "code",
   "execution_count": 1,
   "metadata": {},
   "outputs": [],
   "source": [
    "# Use this cell to set up import statements for all of the packages that you\n",
    "#   plan to use.\n",
    "import pandas as pd\n",
    "import numpy as np\n",
    "import matplotlib.pyplot as plt\n",
    "import seaborn as sns\n",
    "\n",
    "% matplotlib inline\n",
    "# Remember to include a 'magic word' so that your visualizations are plotted\n",
    "#   inline with the notebook. See this page for more:\n",
    "#   http://ipython.readthedocs.io/en/stable/interactive/magics.html\n"
   ]
  },
  {
   "cell_type": "markdown",
   "metadata": {},
   "source": [
    "<a id='wrangling'></a>\n",
    "## Data Wrangling\n",
    "\n",
    "### General Properties"
   ]
  },
  {
   "cell_type": "code",
   "execution_count": 2,
   "metadata": {
    "scrolled": true
   },
   "outputs": [
    {
     "data": {
      "text/html": [
       "<div>\n",
       "<style scoped>\n",
       "    .dataframe tbody tr th:only-of-type {\n",
       "        vertical-align: middle;\n",
       "    }\n",
       "\n",
       "    .dataframe tbody tr th {\n",
       "        vertical-align: top;\n",
       "    }\n",
       "\n",
       "    .dataframe thead th {\n",
       "        text-align: right;\n",
       "    }\n",
       "</style>\n",
       "<table border=\"1\" class=\"dataframe\">\n",
       "  <thead>\n",
       "    <tr style=\"text-align: right;\">\n",
       "      <th></th>\n",
       "      <th>PatientId</th>\n",
       "      <th>AppointmentID</th>\n",
       "      <th>Gender</th>\n",
       "      <th>ScheduledDay</th>\n",
       "      <th>AppointmentDay</th>\n",
       "      <th>Age</th>\n",
       "      <th>Neighbourhood</th>\n",
       "      <th>Scholarship</th>\n",
       "      <th>Hipertension</th>\n",
       "      <th>Diabetes</th>\n",
       "      <th>Alcoholism</th>\n",
       "      <th>Handcap</th>\n",
       "      <th>SMS_received</th>\n",
       "      <th>No-show</th>\n",
       "    </tr>\n",
       "  </thead>\n",
       "  <tbody>\n",
       "    <tr>\n",
       "      <th>0</th>\n",
       "      <td>2.987250e+13</td>\n",
       "      <td>5642903</td>\n",
       "      <td>F</td>\n",
       "      <td>2016-04-29T18:38:08Z</td>\n",
       "      <td>2016-04-29T00:00:00Z</td>\n",
       "      <td>62</td>\n",
       "      <td>JARDIM DA PENHA</td>\n",
       "      <td>0</td>\n",
       "      <td>1</td>\n",
       "      <td>0</td>\n",
       "      <td>0</td>\n",
       "      <td>0</td>\n",
       "      <td>0</td>\n",
       "      <td>No</td>\n",
       "    </tr>\n",
       "    <tr>\n",
       "      <th>1</th>\n",
       "      <td>5.589978e+14</td>\n",
       "      <td>5642503</td>\n",
       "      <td>M</td>\n",
       "      <td>2016-04-29T16:08:27Z</td>\n",
       "      <td>2016-04-29T00:00:00Z</td>\n",
       "      <td>56</td>\n",
       "      <td>JARDIM DA PENHA</td>\n",
       "      <td>0</td>\n",
       "      <td>0</td>\n",
       "      <td>0</td>\n",
       "      <td>0</td>\n",
       "      <td>0</td>\n",
       "      <td>0</td>\n",
       "      <td>No</td>\n",
       "    </tr>\n",
       "    <tr>\n",
       "      <th>2</th>\n",
       "      <td>4.262962e+12</td>\n",
       "      <td>5642549</td>\n",
       "      <td>F</td>\n",
       "      <td>2016-04-29T16:19:04Z</td>\n",
       "      <td>2016-04-29T00:00:00Z</td>\n",
       "      <td>62</td>\n",
       "      <td>MATA DA PRAIA</td>\n",
       "      <td>0</td>\n",
       "      <td>0</td>\n",
       "      <td>0</td>\n",
       "      <td>0</td>\n",
       "      <td>0</td>\n",
       "      <td>0</td>\n",
       "      <td>No</td>\n",
       "    </tr>\n",
       "    <tr>\n",
       "      <th>3</th>\n",
       "      <td>8.679512e+11</td>\n",
       "      <td>5642828</td>\n",
       "      <td>F</td>\n",
       "      <td>2016-04-29T17:29:31Z</td>\n",
       "      <td>2016-04-29T00:00:00Z</td>\n",
       "      <td>8</td>\n",
       "      <td>PONTAL DE CAMBURI</td>\n",
       "      <td>0</td>\n",
       "      <td>0</td>\n",
       "      <td>0</td>\n",
       "      <td>0</td>\n",
       "      <td>0</td>\n",
       "      <td>0</td>\n",
       "      <td>No</td>\n",
       "    </tr>\n",
       "    <tr>\n",
       "      <th>4</th>\n",
       "      <td>8.841186e+12</td>\n",
       "      <td>5642494</td>\n",
       "      <td>F</td>\n",
       "      <td>2016-04-29T16:07:23Z</td>\n",
       "      <td>2016-04-29T00:00:00Z</td>\n",
       "      <td>56</td>\n",
       "      <td>JARDIM DA PENHA</td>\n",
       "      <td>0</td>\n",
       "      <td>1</td>\n",
       "      <td>1</td>\n",
       "      <td>0</td>\n",
       "      <td>0</td>\n",
       "      <td>0</td>\n",
       "      <td>No</td>\n",
       "    </tr>\n",
       "    <tr>\n",
       "      <th>5</th>\n",
       "      <td>9.598513e+13</td>\n",
       "      <td>5626772</td>\n",
       "      <td>F</td>\n",
       "      <td>2016-04-27T08:36:51Z</td>\n",
       "      <td>2016-04-29T00:00:00Z</td>\n",
       "      <td>76</td>\n",
       "      <td>REPÚBLICA</td>\n",
       "      <td>0</td>\n",
       "      <td>1</td>\n",
       "      <td>0</td>\n",
       "      <td>0</td>\n",
       "      <td>0</td>\n",
       "      <td>0</td>\n",
       "      <td>No</td>\n",
       "    </tr>\n",
       "    <tr>\n",
       "      <th>6</th>\n",
       "      <td>7.336882e+14</td>\n",
       "      <td>5630279</td>\n",
       "      <td>F</td>\n",
       "      <td>2016-04-27T15:05:12Z</td>\n",
       "      <td>2016-04-29T00:00:00Z</td>\n",
       "      <td>23</td>\n",
       "      <td>GOIABEIRAS</td>\n",
       "      <td>0</td>\n",
       "      <td>0</td>\n",
       "      <td>0</td>\n",
       "      <td>0</td>\n",
       "      <td>0</td>\n",
       "      <td>0</td>\n",
       "      <td>Yes</td>\n",
       "    </tr>\n",
       "    <tr>\n",
       "      <th>7</th>\n",
       "      <td>3.449833e+12</td>\n",
       "      <td>5630575</td>\n",
       "      <td>F</td>\n",
       "      <td>2016-04-27T15:39:58Z</td>\n",
       "      <td>2016-04-29T00:00:00Z</td>\n",
       "      <td>39</td>\n",
       "      <td>GOIABEIRAS</td>\n",
       "      <td>0</td>\n",
       "      <td>0</td>\n",
       "      <td>0</td>\n",
       "      <td>0</td>\n",
       "      <td>0</td>\n",
       "      <td>0</td>\n",
       "      <td>Yes</td>\n",
       "    </tr>\n",
       "    <tr>\n",
       "      <th>8</th>\n",
       "      <td>5.639473e+13</td>\n",
       "      <td>5638447</td>\n",
       "      <td>F</td>\n",
       "      <td>2016-04-29T08:02:16Z</td>\n",
       "      <td>2016-04-29T00:00:00Z</td>\n",
       "      <td>21</td>\n",
       "      <td>ANDORINHAS</td>\n",
       "      <td>0</td>\n",
       "      <td>0</td>\n",
       "      <td>0</td>\n",
       "      <td>0</td>\n",
       "      <td>0</td>\n",
       "      <td>0</td>\n",
       "      <td>No</td>\n",
       "    </tr>\n",
       "    <tr>\n",
       "      <th>9</th>\n",
       "      <td>7.812456e+13</td>\n",
       "      <td>5629123</td>\n",
       "      <td>F</td>\n",
       "      <td>2016-04-27T12:48:25Z</td>\n",
       "      <td>2016-04-29T00:00:00Z</td>\n",
       "      <td>19</td>\n",
       "      <td>CONQUISTA</td>\n",
       "      <td>0</td>\n",
       "      <td>0</td>\n",
       "      <td>0</td>\n",
       "      <td>0</td>\n",
       "      <td>0</td>\n",
       "      <td>0</td>\n",
       "      <td>No</td>\n",
       "    </tr>\n",
       "    <tr>\n",
       "      <th>10</th>\n",
       "      <td>7.345362e+14</td>\n",
       "      <td>5630213</td>\n",
       "      <td>F</td>\n",
       "      <td>2016-04-27T14:58:11Z</td>\n",
       "      <td>2016-04-29T00:00:00Z</td>\n",
       "      <td>30</td>\n",
       "      <td>NOVA PALESTINA</td>\n",
       "      <td>0</td>\n",
       "      <td>0</td>\n",
       "      <td>0</td>\n",
       "      <td>0</td>\n",
       "      <td>0</td>\n",
       "      <td>0</td>\n",
       "      <td>No</td>\n",
       "    </tr>\n",
       "    <tr>\n",
       "      <th>11</th>\n",
       "      <td>7.542951e+12</td>\n",
       "      <td>5620163</td>\n",
       "      <td>M</td>\n",
       "      <td>2016-04-26T08:44:12Z</td>\n",
       "      <td>2016-04-29T00:00:00Z</td>\n",
       "      <td>29</td>\n",
       "      <td>NOVA PALESTINA</td>\n",
       "      <td>0</td>\n",
       "      <td>0</td>\n",
       "      <td>0</td>\n",
       "      <td>0</td>\n",
       "      <td>0</td>\n",
       "      <td>1</td>\n",
       "      <td>Yes</td>\n",
       "    </tr>\n",
       "    <tr>\n",
       "      <th>12</th>\n",
       "      <td>5.666548e+14</td>\n",
       "      <td>5634718</td>\n",
       "      <td>F</td>\n",
       "      <td>2016-04-28T11:33:51Z</td>\n",
       "      <td>2016-04-29T00:00:00Z</td>\n",
       "      <td>22</td>\n",
       "      <td>NOVA PALESTINA</td>\n",
       "      <td>1</td>\n",
       "      <td>0</td>\n",
       "      <td>0</td>\n",
       "      <td>0</td>\n",
       "      <td>0</td>\n",
       "      <td>0</td>\n",
       "      <td>No</td>\n",
       "    </tr>\n",
       "    <tr>\n",
       "      <th>13</th>\n",
       "      <td>9.113946e+14</td>\n",
       "      <td>5636249</td>\n",
       "      <td>M</td>\n",
       "      <td>2016-04-28T14:52:07Z</td>\n",
       "      <td>2016-04-29T00:00:00Z</td>\n",
       "      <td>28</td>\n",
       "      <td>NOVA PALESTINA</td>\n",
       "      <td>0</td>\n",
       "      <td>0</td>\n",
       "      <td>0</td>\n",
       "      <td>0</td>\n",
       "      <td>0</td>\n",
       "      <td>0</td>\n",
       "      <td>No</td>\n",
       "    </tr>\n",
       "    <tr>\n",
       "      <th>14</th>\n",
       "      <td>9.988472e+13</td>\n",
       "      <td>5633951</td>\n",
       "      <td>F</td>\n",
       "      <td>2016-04-28T10:06:24Z</td>\n",
       "      <td>2016-04-29T00:00:00Z</td>\n",
       "      <td>54</td>\n",
       "      <td>NOVA PALESTINA</td>\n",
       "      <td>0</td>\n",
       "      <td>0</td>\n",
       "      <td>0</td>\n",
       "      <td>0</td>\n",
       "      <td>0</td>\n",
       "      <td>0</td>\n",
       "      <td>No</td>\n",
       "    </tr>\n",
       "    <tr>\n",
       "      <th>15</th>\n",
       "      <td>9.994839e+10</td>\n",
       "      <td>5620206</td>\n",
       "      <td>F</td>\n",
       "      <td>2016-04-26T08:47:27Z</td>\n",
       "      <td>2016-04-29T00:00:00Z</td>\n",
       "      <td>15</td>\n",
       "      <td>NOVA PALESTINA</td>\n",
       "      <td>0</td>\n",
       "      <td>0</td>\n",
       "      <td>0</td>\n",
       "      <td>0</td>\n",
       "      <td>0</td>\n",
       "      <td>1</td>\n",
       "      <td>No</td>\n",
       "    </tr>\n",
       "    <tr>\n",
       "      <th>16</th>\n",
       "      <td>8.457439e+13</td>\n",
       "      <td>5633121</td>\n",
       "      <td>M</td>\n",
       "      <td>2016-04-28T08:51:47Z</td>\n",
       "      <td>2016-04-29T00:00:00Z</td>\n",
       "      <td>50</td>\n",
       "      <td>NOVA PALESTINA</td>\n",
       "      <td>0</td>\n",
       "      <td>0</td>\n",
       "      <td>0</td>\n",
       "      <td>0</td>\n",
       "      <td>0</td>\n",
       "      <td>0</td>\n",
       "      <td>No</td>\n",
       "    </tr>\n",
       "    <tr>\n",
       "      <th>17</th>\n",
       "      <td>1.479497e+13</td>\n",
       "      <td>5633460</td>\n",
       "      <td>F</td>\n",
       "      <td>2016-04-28T09:28:57Z</td>\n",
       "      <td>2016-04-29T00:00:00Z</td>\n",
       "      <td>40</td>\n",
       "      <td>CONQUISTA</td>\n",
       "      <td>1</td>\n",
       "      <td>0</td>\n",
       "      <td>0</td>\n",
       "      <td>0</td>\n",
       "      <td>0</td>\n",
       "      <td>0</td>\n",
       "      <td>Yes</td>\n",
       "    </tr>\n",
       "    <tr>\n",
       "      <th>18</th>\n",
       "      <td>1.713538e+13</td>\n",
       "      <td>5621836</td>\n",
       "      <td>F</td>\n",
       "      <td>2016-04-26T10:54:18Z</td>\n",
       "      <td>2016-04-29T00:00:00Z</td>\n",
       "      <td>30</td>\n",
       "      <td>NOVA PALESTINA</td>\n",
       "      <td>1</td>\n",
       "      <td>0</td>\n",
       "      <td>0</td>\n",
       "      <td>0</td>\n",
       "      <td>0</td>\n",
       "      <td>1</td>\n",
       "      <td>No</td>\n",
       "    </tr>\n",
       "    <tr>\n",
       "      <th>19</th>\n",
       "      <td>7.223289e+12</td>\n",
       "      <td>5640433</td>\n",
       "      <td>F</td>\n",
       "      <td>2016-04-29T10:43:14Z</td>\n",
       "      <td>2016-04-29T00:00:00Z</td>\n",
       "      <td>46</td>\n",
       "      <td>DA PENHA</td>\n",
       "      <td>0</td>\n",
       "      <td>0</td>\n",
       "      <td>0</td>\n",
       "      <td>0</td>\n",
       "      <td>0</td>\n",
       "      <td>0</td>\n",
       "      <td>No</td>\n",
       "    </tr>\n",
       "  </tbody>\n",
       "</table>\n",
       "</div>"
      ],
      "text/plain": [
       "       PatientId  AppointmentID Gender          ScheduledDay  \\\n",
       "0   2.987250e+13        5642903      F  2016-04-29T18:38:08Z   \n",
       "1   5.589978e+14        5642503      M  2016-04-29T16:08:27Z   \n",
       "2   4.262962e+12        5642549      F  2016-04-29T16:19:04Z   \n",
       "3   8.679512e+11        5642828      F  2016-04-29T17:29:31Z   \n",
       "4   8.841186e+12        5642494      F  2016-04-29T16:07:23Z   \n",
       "5   9.598513e+13        5626772      F  2016-04-27T08:36:51Z   \n",
       "6   7.336882e+14        5630279      F  2016-04-27T15:05:12Z   \n",
       "7   3.449833e+12        5630575      F  2016-04-27T15:39:58Z   \n",
       "8   5.639473e+13        5638447      F  2016-04-29T08:02:16Z   \n",
       "9   7.812456e+13        5629123      F  2016-04-27T12:48:25Z   \n",
       "10  7.345362e+14        5630213      F  2016-04-27T14:58:11Z   \n",
       "11  7.542951e+12        5620163      M  2016-04-26T08:44:12Z   \n",
       "12  5.666548e+14        5634718      F  2016-04-28T11:33:51Z   \n",
       "13  9.113946e+14        5636249      M  2016-04-28T14:52:07Z   \n",
       "14  9.988472e+13        5633951      F  2016-04-28T10:06:24Z   \n",
       "15  9.994839e+10        5620206      F  2016-04-26T08:47:27Z   \n",
       "16  8.457439e+13        5633121      M  2016-04-28T08:51:47Z   \n",
       "17  1.479497e+13        5633460      F  2016-04-28T09:28:57Z   \n",
       "18  1.713538e+13        5621836      F  2016-04-26T10:54:18Z   \n",
       "19  7.223289e+12        5640433      F  2016-04-29T10:43:14Z   \n",
       "\n",
       "          AppointmentDay  Age      Neighbourhood  Scholarship  Hipertension  \\\n",
       "0   2016-04-29T00:00:00Z   62    JARDIM DA PENHA            0             1   \n",
       "1   2016-04-29T00:00:00Z   56    JARDIM DA PENHA            0             0   \n",
       "2   2016-04-29T00:00:00Z   62      MATA DA PRAIA            0             0   \n",
       "3   2016-04-29T00:00:00Z    8  PONTAL DE CAMBURI            0             0   \n",
       "4   2016-04-29T00:00:00Z   56    JARDIM DA PENHA            0             1   \n",
       "5   2016-04-29T00:00:00Z   76          REPÚBLICA            0             1   \n",
       "6   2016-04-29T00:00:00Z   23         GOIABEIRAS            0             0   \n",
       "7   2016-04-29T00:00:00Z   39         GOIABEIRAS            0             0   \n",
       "8   2016-04-29T00:00:00Z   21         ANDORINHAS            0             0   \n",
       "9   2016-04-29T00:00:00Z   19          CONQUISTA            0             0   \n",
       "10  2016-04-29T00:00:00Z   30     NOVA PALESTINA            0             0   \n",
       "11  2016-04-29T00:00:00Z   29     NOVA PALESTINA            0             0   \n",
       "12  2016-04-29T00:00:00Z   22     NOVA PALESTINA            1             0   \n",
       "13  2016-04-29T00:00:00Z   28     NOVA PALESTINA            0             0   \n",
       "14  2016-04-29T00:00:00Z   54     NOVA PALESTINA            0             0   \n",
       "15  2016-04-29T00:00:00Z   15     NOVA PALESTINA            0             0   \n",
       "16  2016-04-29T00:00:00Z   50     NOVA PALESTINA            0             0   \n",
       "17  2016-04-29T00:00:00Z   40          CONQUISTA            1             0   \n",
       "18  2016-04-29T00:00:00Z   30     NOVA PALESTINA            1             0   \n",
       "19  2016-04-29T00:00:00Z   46           DA PENHA            0             0   \n",
       "\n",
       "    Diabetes  Alcoholism  Handcap  SMS_received No-show  \n",
       "0          0           0        0             0      No  \n",
       "1          0           0        0             0      No  \n",
       "2          0           0        0             0      No  \n",
       "3          0           0        0             0      No  \n",
       "4          1           0        0             0      No  \n",
       "5          0           0        0             0      No  \n",
       "6          0           0        0             0     Yes  \n",
       "7          0           0        0             0     Yes  \n",
       "8          0           0        0             0      No  \n",
       "9          0           0        0             0      No  \n",
       "10         0           0        0             0      No  \n",
       "11         0           0        0             1     Yes  \n",
       "12         0           0        0             0      No  \n",
       "13         0           0        0             0      No  \n",
       "14         0           0        0             0      No  \n",
       "15         0           0        0             1      No  \n",
       "16         0           0        0             0      No  \n",
       "17         0           0        0             0     Yes  \n",
       "18         0           0        0             1      No  \n",
       "19         0           0        0             0      No  "
      ]
     },
     "execution_count": 2,
     "metadata": {},
     "output_type": "execute_result"
    }
   ],
   "source": [
    "# Load your data and print out a few lines. Perform operations to inspect data\n",
    "#   types and look for instances of missing or possibly errant data.\n",
    "df = pd.read_csv('noshowappointments-kagglev2-may-2016.csv') #Using the 'No-Show Appointments' dataset \n",
    "df.head(20)\n"
   ]
  },
  {
   "cell_type": "code",
   "execution_count": 3,
   "metadata": {},
   "outputs": [
    {
     "data": {
      "text/plain": [
       "(110527, 14)"
      ]
     },
     "execution_count": 3,
     "metadata": {},
     "output_type": "execute_result"
    }
   ],
   "source": [
    "df.shape #Checking out the shape of our table"
   ]
  },
  {
   "cell_type": "code",
   "execution_count": 4,
   "metadata": {},
   "outputs": [
    {
     "data": {
      "text/plain": [
       "PatientId          62299\n",
       "AppointmentID     110527\n",
       "Gender                 2\n",
       "ScheduledDay      103549\n",
       "AppointmentDay        27\n",
       "Age                  104\n",
       "Neighbourhood         81\n",
       "Scholarship            2\n",
       "Hipertension           2\n",
       "Diabetes               2\n",
       "Alcoholism             2\n",
       "Handcap                5\n",
       "SMS_received           2\n",
       "No-show                2\n",
       "dtype: int64"
      ]
     },
     "execution_count": 4,
     "metadata": {},
     "output_type": "execute_result"
    }
   ],
   "source": [
    "df.nunique() #number of unique values in each column"
   ]
  },
  {
   "cell_type": "code",
   "execution_count": 5,
   "metadata": {},
   "outputs": [
    {
     "data": {
      "text/html": [
       "<div>\n",
       "<style scoped>\n",
       "    .dataframe tbody tr th:only-of-type {\n",
       "        vertical-align: middle;\n",
       "    }\n",
       "\n",
       "    .dataframe tbody tr th {\n",
       "        vertical-align: top;\n",
       "    }\n",
       "\n",
       "    .dataframe thead th {\n",
       "        text-align: right;\n",
       "    }\n",
       "</style>\n",
       "<table border=\"1\" class=\"dataframe\">\n",
       "  <thead>\n",
       "    <tr style=\"text-align: right;\">\n",
       "      <th></th>\n",
       "      <th>PatientId</th>\n",
       "      <th>AppointmentID</th>\n",
       "      <th>Age</th>\n",
       "      <th>Scholarship</th>\n",
       "      <th>Hipertension</th>\n",
       "      <th>Diabetes</th>\n",
       "      <th>Alcoholism</th>\n",
       "      <th>Handcap</th>\n",
       "      <th>SMS_received</th>\n",
       "    </tr>\n",
       "  </thead>\n",
       "  <tbody>\n",
       "    <tr>\n",
       "      <th>count</th>\n",
       "      <td>1.105270e+05</td>\n",
       "      <td>1.105270e+05</td>\n",
       "      <td>110527.000000</td>\n",
       "      <td>110527.000000</td>\n",
       "      <td>110527.000000</td>\n",
       "      <td>110527.000000</td>\n",
       "      <td>110527.000000</td>\n",
       "      <td>110527.000000</td>\n",
       "      <td>110527.000000</td>\n",
       "    </tr>\n",
       "    <tr>\n",
       "      <th>mean</th>\n",
       "      <td>1.474963e+14</td>\n",
       "      <td>5.675305e+06</td>\n",
       "      <td>37.088874</td>\n",
       "      <td>0.098266</td>\n",
       "      <td>0.197246</td>\n",
       "      <td>0.071865</td>\n",
       "      <td>0.030400</td>\n",
       "      <td>0.022248</td>\n",
       "      <td>0.321026</td>\n",
       "    </tr>\n",
       "    <tr>\n",
       "      <th>std</th>\n",
       "      <td>2.560949e+14</td>\n",
       "      <td>7.129575e+04</td>\n",
       "      <td>23.110205</td>\n",
       "      <td>0.297675</td>\n",
       "      <td>0.397921</td>\n",
       "      <td>0.258265</td>\n",
       "      <td>0.171686</td>\n",
       "      <td>0.161543</td>\n",
       "      <td>0.466873</td>\n",
       "    </tr>\n",
       "    <tr>\n",
       "      <th>min</th>\n",
       "      <td>3.921784e+04</td>\n",
       "      <td>5.030230e+06</td>\n",
       "      <td>-1.000000</td>\n",
       "      <td>0.000000</td>\n",
       "      <td>0.000000</td>\n",
       "      <td>0.000000</td>\n",
       "      <td>0.000000</td>\n",
       "      <td>0.000000</td>\n",
       "      <td>0.000000</td>\n",
       "    </tr>\n",
       "    <tr>\n",
       "      <th>25%</th>\n",
       "      <td>4.172614e+12</td>\n",
       "      <td>5.640286e+06</td>\n",
       "      <td>18.000000</td>\n",
       "      <td>0.000000</td>\n",
       "      <td>0.000000</td>\n",
       "      <td>0.000000</td>\n",
       "      <td>0.000000</td>\n",
       "      <td>0.000000</td>\n",
       "      <td>0.000000</td>\n",
       "    </tr>\n",
       "    <tr>\n",
       "      <th>50%</th>\n",
       "      <td>3.173184e+13</td>\n",
       "      <td>5.680573e+06</td>\n",
       "      <td>37.000000</td>\n",
       "      <td>0.000000</td>\n",
       "      <td>0.000000</td>\n",
       "      <td>0.000000</td>\n",
       "      <td>0.000000</td>\n",
       "      <td>0.000000</td>\n",
       "      <td>0.000000</td>\n",
       "    </tr>\n",
       "    <tr>\n",
       "      <th>75%</th>\n",
       "      <td>9.439172e+13</td>\n",
       "      <td>5.725524e+06</td>\n",
       "      <td>55.000000</td>\n",
       "      <td>0.000000</td>\n",
       "      <td>0.000000</td>\n",
       "      <td>0.000000</td>\n",
       "      <td>0.000000</td>\n",
       "      <td>0.000000</td>\n",
       "      <td>1.000000</td>\n",
       "    </tr>\n",
       "    <tr>\n",
       "      <th>max</th>\n",
       "      <td>9.999816e+14</td>\n",
       "      <td>5.790484e+06</td>\n",
       "      <td>115.000000</td>\n",
       "      <td>1.000000</td>\n",
       "      <td>1.000000</td>\n",
       "      <td>1.000000</td>\n",
       "      <td>1.000000</td>\n",
       "      <td>4.000000</td>\n",
       "      <td>1.000000</td>\n",
       "    </tr>\n",
       "  </tbody>\n",
       "</table>\n",
       "</div>"
      ],
      "text/plain": [
       "          PatientId  AppointmentID            Age    Scholarship  \\\n",
       "count  1.105270e+05   1.105270e+05  110527.000000  110527.000000   \n",
       "mean   1.474963e+14   5.675305e+06      37.088874       0.098266   \n",
       "std    2.560949e+14   7.129575e+04      23.110205       0.297675   \n",
       "min    3.921784e+04   5.030230e+06      -1.000000       0.000000   \n",
       "25%    4.172614e+12   5.640286e+06      18.000000       0.000000   \n",
       "50%    3.173184e+13   5.680573e+06      37.000000       0.000000   \n",
       "75%    9.439172e+13   5.725524e+06      55.000000       0.000000   \n",
       "max    9.999816e+14   5.790484e+06     115.000000       1.000000   \n",
       "\n",
       "        Hipertension       Diabetes     Alcoholism        Handcap  \\\n",
       "count  110527.000000  110527.000000  110527.000000  110527.000000   \n",
       "mean        0.197246       0.071865       0.030400       0.022248   \n",
       "std         0.397921       0.258265       0.171686       0.161543   \n",
       "min         0.000000       0.000000       0.000000       0.000000   \n",
       "25%         0.000000       0.000000       0.000000       0.000000   \n",
       "50%         0.000000       0.000000       0.000000       0.000000   \n",
       "75%         0.000000       0.000000       0.000000       0.000000   \n",
       "max         1.000000       1.000000       1.000000       4.000000   \n",
       "\n",
       "        SMS_received  \n",
       "count  110527.000000  \n",
       "mean        0.321026  \n",
       "std         0.466873  \n",
       "min         0.000000  \n",
       "25%         0.000000  \n",
       "50%         0.000000  \n",
       "75%         1.000000  \n",
       "max         1.000000  "
      ]
     },
     "execution_count": 5,
     "metadata": {},
     "output_type": "execute_result"
    }
   ],
   "source": [
    "df.describe() #descriptive statistics for each column of data"
   ]
  },
  {
   "cell_type": "markdown",
   "metadata": {},
   "source": [
    "\n",
    "\n",
    "### Data Cleaning (Replace this with more specific notes!)"
   ]
  },
  {
   "cell_type": "code",
   "execution_count": 6,
   "metadata": {},
   "outputs": [
    {
     "name": "stdout",
     "output_type": "stream",
     "text": [
      "<class 'pandas.core.frame.DataFrame'>\n",
      "RangeIndex: 110527 entries, 0 to 110526\n",
      "Data columns (total 14 columns):\n",
      "PatientId         110527 non-null float64\n",
      "AppointmentID     110527 non-null int64\n",
      "Gender            110527 non-null object\n",
      "ScheduledDay      110527 non-null object\n",
      "AppointmentDay    110527 non-null object\n",
      "Age               110527 non-null int64\n",
      "Neighbourhood     110527 non-null object\n",
      "Scholarship       110527 non-null int64\n",
      "Hipertension      110527 non-null int64\n",
      "Diabetes          110527 non-null int64\n",
      "Alcoholism        110527 non-null int64\n",
      "Handcap           110527 non-null int64\n",
      "SMS_received      110527 non-null int64\n",
      "No-show           110527 non-null object\n",
      "dtypes: float64(1), int64(8), object(5)\n",
      "memory usage: 11.8+ MB\n"
     ]
    }
   ],
   "source": [
    "# After discussing the structure of the data and any problems that need to be\n",
    "#   cleaned, perform those cleaning steps in the second part of this section.\n",
    "\n",
    "df.info() #Checking if there are any missing values and there are No missing values!"
   ]
  },
  {
   "cell_type": "code",
   "execution_count": 7,
   "metadata": {},
   "outputs": [
    {
     "data": {
      "text/plain": [
       "PatientId         float64\n",
       "AppointmentID       int64\n",
       "Gender             object\n",
       "ScheduledDay       object\n",
       "AppointmentDay     object\n",
       "Age                 int64\n",
       "Neighbourhood      object\n",
       "Scholarship         int64\n",
       "Hipertension        int64\n",
       "Diabetes            int64\n",
       "Alcoholism          int64\n",
       "Handcap             int64\n",
       "SMS_received        int64\n",
       "No-show            object\n",
       "dtype: object"
      ]
     },
     "execution_count": 7,
     "metadata": {},
     "output_type": "execute_result"
    }
   ],
   "source": [
    "\n",
    "df.dtypes #Checking if they have the correct data type"
   ]
  },
  {
   "cell_type": "code",
   "execution_count": 8,
   "metadata": {},
   "outputs": [
    {
     "data": {
      "text/plain": [
       "0        2016-04-29\n",
       "1        2016-04-29\n",
       "2        2016-04-29\n",
       "3        2016-04-29\n",
       "4        2016-04-29\n",
       "5        2016-04-29\n",
       "6        2016-04-29\n",
       "7        2016-04-29\n",
       "8        2016-04-29\n",
       "9        2016-04-29\n",
       "10       2016-04-29\n",
       "11       2016-04-29\n",
       "12       2016-04-29\n",
       "13       2016-04-29\n",
       "14       2016-04-29\n",
       "15       2016-04-29\n",
       "16       2016-04-29\n",
       "17       2016-04-29\n",
       "18       2016-04-29\n",
       "19       2016-04-29\n",
       "20       2016-04-29\n",
       "21       2016-04-29\n",
       "22       2016-04-29\n",
       "23       2016-04-29\n",
       "24       2016-04-29\n",
       "25       2016-04-29\n",
       "26       2016-04-29\n",
       "27       2016-04-29\n",
       "28       2016-04-29\n",
       "29       2016-04-29\n",
       "            ...    \n",
       "110497   2016-06-01\n",
       "110498   2016-06-08\n",
       "110499   2016-06-01\n",
       "110500   2016-06-08\n",
       "110501   2016-06-01\n",
       "110502   2016-06-08\n",
       "110503   2016-06-01\n",
       "110504   2016-06-08\n",
       "110505   2016-06-01\n",
       "110506   2016-06-01\n",
       "110507   2016-06-08\n",
       "110508   2016-06-01\n",
       "110509   2016-06-08\n",
       "110510   2016-06-01\n",
       "110511   2016-06-08\n",
       "110512   2016-06-08\n",
       "110513   2016-06-08\n",
       "110514   2016-06-08\n",
       "110515   2016-06-08\n",
       "110516   2016-06-08\n",
       "110517   2016-06-07\n",
       "110518   2016-06-07\n",
       "110519   2016-06-07\n",
       "110520   2016-06-07\n",
       "110521   2016-06-07\n",
       "110522   2016-06-07\n",
       "110523   2016-06-07\n",
       "110524   2016-06-07\n",
       "110525   2016-06-07\n",
       "110526   2016-06-07\n",
       "Name: AppointmentDay, Length: 110527, dtype: datetime64[ns]"
      ]
     },
     "execution_count": 8,
     "metadata": {},
     "output_type": "execute_result"
    }
   ],
   "source": [
    "#chaing date type\n",
    "df.AppointmentDay.apply(np.datetime64)\n"
   ]
  },
  {
   "cell_type": "code",
   "execution_count": 9,
   "metadata": {},
   "outputs": [
    {
     "name": "stdout",
     "output_type": "stream",
     "text": [
      "<class 'pandas.core.frame.DataFrame'>\n",
      "RangeIndex: 110527 entries, 0 to 110526\n",
      "Data columns (total 14 columns):\n",
      "PatientId         110527 non-null float64\n",
      "AppointmentID     110527 non-null int64\n",
      "Gender            110527 non-null object\n",
      "ScheduledDay      110527 non-null datetime64[ns]\n",
      "AppointmentDay    110527 non-null datetime64[ns]\n",
      "Age               110527 non-null int64\n",
      "Neighbourhood     110527 non-null object\n",
      "Scholarship       110527 non-null int64\n",
      "Hipertension      110527 non-null int64\n",
      "Diabetes          110527 non-null int64\n",
      "Alcoholism        110527 non-null int64\n",
      "Handcap           110527 non-null int64\n",
      "SMS_received      110527 non-null int64\n",
      "No-show           110527 non-null object\n",
      "dtypes: datetime64[ns](2), float64(1), int64(8), object(3)\n",
      "memory usage: 11.8+ MB\n"
     ]
    }
   ],
   "source": [
    "df.AppointmentDay = df.AppointmentDay.apply(np.datetime64)\n",
    "df.ScheduledDay = df.ScheduledDay.apply(np.datetime64)\n",
    "df.info() #Now everything is GOOOOD"
   ]
  },
  {
   "cell_type": "code",
   "execution_count": 44,
   "metadata": {},
   "outputs": [],
   "source": [
    "# Appointment Date\n",
    "df['AppointmentDate'] = pd.to_datetime(df['AppointmentDay']).dt.date\n",
    "df['DayofWeek'] = pd.to_datetime(df['AppointmentDay']).dt.weekday_name\n",
    "df.drop('AppointmentDay',axis=1, inplace = True)\n",
    "# Appointment Booking Date\n",
    "df['ScheduledDate'] = pd.to_datetime(df['ScheduledDay']).dt.date\n",
    "df.drop('ScheduledDay',axis=1, inplace = True)"
   ]
  },
  {
   "cell_type": "code",
   "execution_count": 45,
   "metadata": {},
   "outputs": [
    {
     "name": "stdout",
     "output_type": "stream",
     "text": [
      "<class 'pandas.core.frame.DataFrame'>\n",
      "RangeIndex: 110527 entries, 0 to 110526\n",
      "Data columns (total 15 columns):\n",
      "PatientId          110527 non-null float64\n",
      "AppointmentID      110527 non-null int64\n",
      "Gender             110527 non-null object\n",
      "Age                110527 non-null int64\n",
      "Neighbourhood      110527 non-null object\n",
      "Scholarship        110527 non-null int64\n",
      "Hypertension       110527 non-null int64\n",
      "Diabetes           110527 non-null int64\n",
      "Alcoholism         110527 non-null int64\n",
      "Handicap           110527 non-null int64\n",
      "SMS_received       110527 non-null int64\n",
      "No-show            110527 non-null object\n",
      "AppointmentDate    110527 non-null object\n",
      "DayofWeek          110527 non-null object\n",
      "ScheduledDate      110527 non-null object\n",
      "dtypes: float64(1), int64(8), object(6)\n",
      "memory usage: 12.6+ MB\n"
     ]
    }
   ],
   "source": [
    "df.info()"
   ]
  },
  {
   "cell_type": "code",
   "execution_count": 46,
   "metadata": {},
   "outputs": [],
   "source": [
    "#update the vaules to make them easier to read\n",
    "\n",
    "df['DayofWeek'] = df.DayofWeek.astype('category')\n",
    "df.DayofWeek.cat.reorder_categories(['Monday', 'Tuesday','Wednesday','Thursday','Friday','Saturday'], \n",
    "                                    ordered = True, inplace = True)"
   ]
  },
  {
   "cell_type": "code",
   "execution_count": 47,
   "metadata": {},
   "outputs": [
    {
     "name": "stdout",
     "output_type": "stream",
     "text": [
      "<class 'pandas.core.frame.DataFrame'>\n",
      "RangeIndex: 110527 entries, 0 to 110526\n",
      "Data columns (total 15 columns):\n",
      "PatientId          110527 non-null float64\n",
      "AppointmentID      110527 non-null int64\n",
      "Gender             110527 non-null object\n",
      "Age                110527 non-null int64\n",
      "Neighbourhood      110527 non-null object\n",
      "Scholarship        110527 non-null int64\n",
      "Hypertension       110527 non-null int64\n",
      "Diabetes           110527 non-null int64\n",
      "Alcoholism         110527 non-null int64\n",
      "Handicap           110527 non-null int64\n",
      "SMS_received       110527 non-null int64\n",
      "No-show            110527 non-null object\n",
      "AppointmentDate    110527 non-null object\n",
      "DayofWeek          110527 non-null category\n",
      "ScheduledDate      110527 non-null object\n",
      "dtypes: category(1), float64(1), int64(8), object(5)\n",
      "memory usage: 11.9+ MB\n"
     ]
    }
   ],
   "source": [
    "df.info()"
   ]
  },
  {
   "cell_type": "code",
   "execution_count": 10,
   "metadata": {},
   "outputs": [
    {
     "data": {
      "text/plain": [
       "0"
      ]
     },
     "execution_count": 10,
     "metadata": {},
     "output_type": "execute_result"
    }
   ],
   "source": [
    "sum(df.duplicated()) #Number of duplicated = 0 which is GREAT!"
   ]
  },
  {
   "cell_type": "code",
   "execution_count": 11,
   "metadata": {},
   "outputs": [
    {
     "name": "stdout",
     "output_type": "stream",
     "text": [
      "Index(['PatientId', 'AppointmentID', 'Gender', 'ScheduledDay',\n",
      "       'AppointmentDay', 'Age', 'Neighbourhood', 'Scholarship', 'Hypertension',\n",
      "       'Diabetes', 'Alcoholism', 'Handicap', 'SMS_received', 'No-show'],\n",
      "      dtype='object')\n"
     ]
    }
   ],
   "source": [
    "#typo error \n",
    "df.rename(columns = {'Hipertension': 'Hypertension',\n",
    "                'Handcap': 'Handicap'}, inplace = True)\n",
    "\n",
    "print(df.columns) "
   ]
  },
  {
   "cell_type": "code",
   "execution_count": 12,
   "metadata": {},
   "outputs": [
    {
     "data": {
      "text/plain": [
       "0    8.221459e+14\n",
       "dtype: float64"
      ]
     },
     "execution_count": 12,
     "metadata": {},
     "output_type": "execute_result"
    }
   ],
   "source": [
    "df['PatientId'].mode()"
   ]
  },
  {
   "cell_type": "markdown",
   "metadata": {},
   "source": [
    "<a id='eda'></a>\n",
    "## Exploratory Data Analysis\n",
    "\n",
    "\n",
    "\n",
    "### Research Question 1 number of patients that showed up vs patients that did no show? Show vs No-show"
   ]
  },
  {
   "cell_type": "code",
   "execution_count": 13,
   "metadata": {},
   "outputs": [
    {
     "data": {
      "image/png": "[encoded data removed]",
      "text/plain": [
       "<Figure size 576x576 with 9 Axes>"
      ]
     },
     "metadata": {
      "needs_background": "light"
     },
     "output_type": "display_data"
    }
   ],
   "source": [
    "# Use this, and more code cells, to explore your data. Don't forget to add\n",
    "#   Markdown cells to document your observations and findings.\n",
    "df.hist(figsize= (8, 8)); #exploring data for each coloumn "
   ]
  },
  {
   "cell_type": "code",
   "execution_count": 15,
   "metadata": {},
   "outputs": [
    {
     "data": {
      "text/plain": [
       "PatientId         88208\n",
       "AppointmentID     88208\n",
       "Gender            88208\n",
       "ScheduledDay      88208\n",
       "AppointmentDay    88208\n",
       "Age               88208\n",
       "Neighbourhood     88208\n",
       "Scholarship       88208\n",
       "Hypertension      88208\n",
       "Diabetes          88208\n",
       "Alcoholism        88208\n",
       "Handicap          88208\n",
       "SMS_received      88208\n",
       "No-show           88208\n",
       "dtype: int64"
      ]
     },
     "execution_count": 15,
     "metadata": {},
     "output_type": "execute_result"
    }
   ],
   "source": [
    "df[df['No-show'] == 'No'].count()"
   ]
  },
  {
   "cell_type": "code",
   "execution_count": 16,
   "metadata": {},
   "outputs": [
    {
     "data": {
      "text/plain": [
       "PatientId         22319\n",
       "AppointmentID     22319\n",
       "Gender            22319\n",
       "ScheduledDay      22319\n",
       "AppointmentDay    22319\n",
       "Age               22319\n",
       "Neighbourhood     22319\n",
       "Scholarship       22319\n",
       "Hypertension      22319\n",
       "Diabetes          22319\n",
       "Alcoholism        22319\n",
       "Handicap          22319\n",
       "SMS_received      22319\n",
       "No-show           22319\n",
       "dtype: int64"
      ]
     },
     "execution_count": 16,
     "metadata": {},
     "output_type": "execute_result"
    }
   ],
   "source": [
    "df[df['No-show']=='Yes'].count()"
   ]
  },
  {
   "cell_type": "code",
   "execution_count": 49,
   "metadata": {},
   "outputs": [],
   "source": [
    "def PropByVar(df, variable): #function to calcluate the difference between the Max and Min Show % Dimension\n",
    "    df_pie = df[variable].value_counts()\n",
    "    #color = ['yellowgreen' , 'lightskyblue'] #removing this to make the colors dynammic \n",
    "    #exlpode = (0.1,0)\n",
    "    ax = df_pie.plot.pie(figsize=(10,10), autopct='%1.1f%%', fontsize = 14);\n",
    "    ax.set_title(variable + '% (Per appointment)\\n', fontsize = 15);\n",
    "    return np.round(df_pie/df.shape[0]*100,2)\n"
   ]
  },
  {
   "cell_type": "code",
   "execution_count": 37,
   "metadata": {},
   "outputs": [
    {
     "data": {
      "text/plain": [
       "No     79.81\n",
       "Yes    20.19\n",
       "Name: No-show, dtype: float64"
      ]
     },
     "execution_count": 37,
     "metadata": {},
     "output_type": "execute_result"
    },
    {
     "data": {
      "image/png": "[encoded data removed]",
      "text/plain": [
       "<Figure size 720x720 with 1 Axes>"
      ]
     },
     "metadata": {},
     "output_type": "display_data"
    }
   ],
   "source": [
    "PropByVar(df, 'No-show')"
   ]
  },
  {
   "cell_type": "markdown",
   "metadata": {},
   "source": [
    "### Research Question 2 What Gender have the most % of no show? "
   ]
  },
  {
   "cell_type": "code",
   "execution_count": 56,
   "metadata": {},
   "outputs": [
    {
     "name": "stdout",
     "output_type": "stream",
     "text": [
      "38687 of the appointments is for a man. This is 35% of 110527 records.\n",
      "71840 of the appointments is for a woman. This is 64% of 110527 records.\n"
     ]
    }
   ],
   "source": [
    "# Continue to explore the data to address your additional research\n",
    "#   questions. Add more headers as needed if you have more questions to\n",
    "#   investigate.\n",
    "\n",
    "# this function prints a 1d analysis of a variable\n",
    "def print_1d_analysis(column_name, value, specific_text):\n",
    "    total = len(df.index)\n",
    "    total_value = (df[column_name] == value).sum()\n",
    "    percent = int((total_value / total) * 100)\n",
    "    text = ' This is ' + str(percent) + '% of ' + str(total) + ' records.'\n",
    "    print(str(total_value) + ' ' + specific_text + text)\n",
    "    \n",
    "print_1d_analysis('Gender', 'M', 'of the appointments is for a man.')\n",
    "print_1d_analysis('Gender', 'F', 'of the appointments is for a woman.')"
   ]
  },
  {
   "cell_type": "code",
   "execution_count": 57,
   "metadata": {},
   "outputs": [],
   "source": [
    "def print_noshow_percentage(column_name, value, percentage_text):\n",
    "    total = (df[column_name] == value).sum()\n",
    "    noshow = len((df[(df[column_name] == value) & (df['No-show'] == 'Yes')]))\n",
    "    print(int((noshow / total) * 100), percentage_text)"
   ]
  },
  {
   "cell_type": "code",
   "execution_count": 58,
   "metadata": {},
   "outputs": [
    {
     "name": "stdout",
     "output_type": "stream",
     "text": [
      "19 % of all appointments with a man is a no show\n",
      "20 % of all appointments with a woman is a no show\n"
     ]
    }
   ],
   "source": [
    "#show % of ppl who don't show based on their gender\n",
    "print_noshow_percentage('Gender', 'M', '% of all appointments with a man is a no show')\n",
    "print_noshow_percentage('Gender', 'F', '% of all appointments with a woman is a no show')"
   ]
  },
  {
   "cell_type": "markdown",
   "metadata": {},
   "source": [
    "## Extra Question Q3: Does not sending an SMS message is a huge reason for patients to not show?"
   ]
  },
  {
   "cell_type": "code",
   "execution_count": 59,
   "metadata": {},
   "outputs": [
    {
     "name": "stdout",
     "output_type": "stream",
     "text": [
      "35482 of the appointments involves a patient who received an SMS. This is 32% of 110527 records.\n",
      "27 % of all appointments with someone who received an SMS is a no show\n"
     ]
    }
   ],
   "source": [
    "print_1d_analysis('SMS_received', 1, 'of the appointments involves a patient who received an SMS.')\n",
    "print_noshow_percentage('SMS_received', 1, '% of all appointments with someone who received an SMS is a no show')"
   ]
  },
  {
   "cell_type": "markdown",
   "metadata": {},
   "source": [
    "<a id='conclusions'></a>\n",
    "## Conclusions\n",
    "\n",
    "\n",
    "\n",
    "\n",
    "\n",
    "## To Summarize:\n",
    "\n",
    "* The date had typo mistakes that have been corrected, also some data types which were changed successfully.\n",
    "\n",
    "* The data had no missing values which was GREAT!\n",
    "\n",
    "* For Q1, we can see that almost 80% of patients did not show up!! which is a big problems were ONLY 20.19% showed up to their appointments..\n",
    "\n",
    "* For Q2, we can see that woman have the most booked appointments with 64%. For woman, 20% of them are 'no-show', where men are 19% of the total number are 'no-show\n",
    "\n",
    "* For Q3, well, That is 27% of no-shows under people who received an SMS. As there is no information available on why some patients get an SMS and others not. \n",
    "\n",
    "* The limitation that I had are: was not able to add libaraies to Udacity's workshop becuase I did not have admin rights, The 'AppointmentDay' column did not have time all were zeros which will not help me know what are the time range that most patients did show up, since the diseases are 1's and 0's why not make the 'no-show' column also the same so we can deal with them easier than objects, 'PatientId' were very very large numbers why not make them shorter so we can find out what patient has frequint non show appointments, and finally why do some patients have not recived an SMS message is it because their information that we have are not complete or is there another reason.\n",
    "\n"
   ]
  },
  {
   "cell_type": "code",
   "execution_count": null,
   "metadata": {},
   "outputs": [],
   "source": []
  }
 ],
 "metadata": {
  "kernelspec": {
   "display_name": "Python 3",
   "language": "python",
   "name": "python3"
  },
  "language_info": {
   "codemirror_mode": {
    "name": "ipython",
    "version": 3
   },
   "file_extension": ".py",
   "mimetype": "text/x-python",
   "name": "python",
   "nbconvert_exporter": "python",
   "pygments_lexer": "ipython3",
   "version": "3.7.0"
  }
 },
 "nbformat": 4,
 "nbformat_minor": 2
}
